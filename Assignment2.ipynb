{
 "cells": [
  {
   "cell_type": "markdown",
   "metadata": {},
   "source": [
    "# 1.1  \n",
    " \n",
    "Write a Python Program to implement your own myreduce() function which works exactly like Python's built-in function reduce() \n",
    " \n",
    " "
   ]
  },
  {
   "cell_type": "code",
   "execution_count": 13,
   "metadata": {},
   "outputs": [
    {
     "name": "stdout",
     "output_type": "stream",
     "text": [
      "15\n"
     ]
    }
   ],
   "source": [
    "def add(x1, x2): \n",
    "    return x1 + x2\n",
    "\n",
    "def my_reduce(func, lst):\n",
    "    first = lst[0]\n",
    "    for i in lst[1:]:\n",
    "        first = func(first, i)\n",
    "    return first\n",
    "\n",
    "print(my_reduce(add, [1, 2, 3, 4,5]))"
   ]
  },
  {
   "cell_type": "markdown",
   "metadata": {},
   "source": [
    "1.2  \n",
    " \n",
    "Write a Python program to implement your own myfilter() function which works exactly like Python's built-in function filter()"
   ]
  },
  {
   "cell_type": "code",
   "execution_count": 1,
   "metadata": {},
   "outputs": [
    {
     "name": "stdout",
     "output_type": "stream",
     "text": [
      "['a', 'e', 'i', 'o']\n"
     ]
    }
   ],
   "source": [
    "alphabets = ['a', 'b', 'd', 'e', 'i', 'j', 'o', 'Z','h']\n",
    "foundVowel = []\n",
    "    \n",
    "\n",
    "# function to filters vowels\n",
    "def filterVowels(alphabet):\n",
    "    vowels = ['a', 'e', 'i', 'o', 'u']\n",
    "    \n",
    "    if(alphabet in vowels):\n",
    "        foundVowel.append(alphabet)\n",
    "    else:\n",
    "        return ('')\n",
    "\n",
    "\n",
    "for eachchar in alphabets:\n",
    "    filterVowels(eachchar)\n",
    "print(foundVowel)"
   ]
  },
  {
   "cell_type": "markdown",
   "metadata": {},
   "source": [
    "2) Implement List comprehensions to produce the following lists. \n",
    " \n",
    "Write List comprehensions to produce the following Lists \n",
    " \n",
    "['A', 'C', 'A', 'D', 'G', 'I', ’L’, ‘ D’] \n",
    " \n",
    "['x', 'xx', 'xxx', 'xxxx', 'y', 'yy', 'yyy', 'yyyy', 'z', 'zz', 'zzz', 'zzzz'] \n",
    " \n",
    "['x', 'y', 'z', 'xx', 'yy', 'zz', 'xx', 'yy', 'zz', 'xxxx', 'yyyy', 'zzzz'] \n",
    " \n",
    "[[2], [3], [4], [3], [4], [5], [4], [5], [6]] \n",
    " \n",
    "[[2, 3, 4, 5], [3, 4, 5, 6], [4, 5, 6, 7], [5, 6, 7, 8]] \n",
    " \n",
    "[(1, 1), (2, 1), (3, 1), (1, 2), (2, 2), (3, 2), (1, 3), (2, 3), (3, 3)] "
   ]
  },
  {
   "cell_type": "code",
   "execution_count": 2,
   "metadata": {},
   "outputs": [
    {
     "name": "stdout",
     "output_type": "stream",
     "text": [
      "ACADGILD => ['A', 'C', 'A', 'D', 'G', 'I', 'L', 'D']\n"
     ]
    }
   ],
   "source": [
    "my_word = \"ACADGILD\"\n",
    "alphabet_list = [ alphabet for alphabet in my_word ]\n",
    "print (\"ACADGILD => \" + str(alphabet_list))"
   ]
  },
  {
   "cell_type": "code",
   "execution_count": 3,
   "metadata": {},
   "outputs": [
    {
     "name": "stdout",
     "output_type": "stream",
     "text": [
      " Result ==>> :['x', 'xx', 'xxx', 'xxxx', 'y', 'yy', 'yyy', 'yyyy', 'z', 'zz', 'zzz', 'zzzz']\n"
     ]
    }
   ],
   "source": [
    "input_list = ['x','y','z']\n",
    "result = [item*num for item in input_list for num in range(1,5)]\n",
    "print(\" Result ==>> :\" +str(result))"
   ]
  },
  {
   "cell_type": "code",
   "execution_count": 4,
   "metadata": {},
   "outputs": [
    {
     "name": "stdout",
     "output_type": "stream",
     "text": [
      " Result ==>>['x', 'y', 'z', 'xx', 'yy', 'zz', 'xxx', 'yyy', 'zzz', 'xxxx', 'yyyy', 'zzzz']\n"
     ]
    }
   ],
   "source": [
    "input_list = ['x','y','z']\n",
    "result = [item*num for num in range(1,5) for item in input_list ]\n",
    "print(\" Result ==>>\"+str(result))"
   ]
  },
  {
   "cell_type": "code",
   "execution_count": 6,
   "metadata": {},
   "outputs": [
    {
     "name": "stdout",
     "output_type": "stream",
     "text": [
      " Result ==>>[[2], [3], [4], [3], [4], [5], [4], [5], [6]]\n"
     ]
    }
   ],
   "source": [
    "input_list = [2,3,4]\n",
    "result = [[item +num] for item in input_list for num in range(0,3)  ]\n",
    "print(\" Result ==>>\"+str(result))"
   ]
  },
  {
   "cell_type": "code",
   "execution_count": 7,
   "metadata": {},
   "outputs": [
    {
     "name": "stdout",
     "output_type": "stream",
     "text": [
      " Result ==>>[[2, 3, 4, 5], [3, 4, 5, 6], [4, 5, 6, 7], [5, 6, 7, 8]]\n"
     ]
    }
   ],
   "source": [
    "input_list = [2,3,4,5]\n",
    "result = [[item +num for item in input_list ]  for num in range(0,4)  ]\n",
    "print(\" Result ==>>\"+str(result))"
   ]
  },
  {
   "cell_type": "code",
   "execution_count": 9,
   "metadata": {},
   "outputs": [
    {
     "name": "stdout",
     "output_type": "stream",
     "text": [
      " Result ==>>[(1, 1), (2, 1), (3, 1), (1, 2), (2, 2), (3, 2), (1, 3), (2, 3), (3, 3)]\n"
     ]
    }
   ],
   "source": [
    "input_list = [1,2,3 ]\n",
    "result = [(y,x ) for x in input_list for y in input_list ] \n",
    "print(\" Result ==>>\"+str(result))"
   ]
  },
  {
   "cell_type": "markdown",
   "metadata": {},
   "source": [
    "3.  Implement a function longestWord() that takes a list of words and returns the longest one. "
   ]
  },
  {
   "cell_type": "code",
   "execution_count": 12,
   "metadata": {},
   "outputs": [
    {
     "name": "stdout",
     "output_type": "stream",
     "text": [
      "Longest Word in list =====>>  Assignment\n"
     ]
    }
   ],
   "source": [
    "def longestWord(lt):\n",
    "    max_length = 0;\n",
    "    max_word=\"\";\n",
    "    for token in lt:\n",
    "        if len(token)>max_length:\n",
    "            max_length = len(token)\n",
    "            max_word = token\n",
    "    return max_word;\n",
    "\n",
    "print(\"Longest Word in list =====>> \",str(longestWord([\"Santosh\",\"Test\",\"Assignment\",\"Machine\", \"Python\"])))"
   ]
  },
  {
   "cell_type": "markdown",
   "metadata": {},
   "source": [
    "Task 2: \n",
    "1.1  \n",
    " \n",
    "Write a Python Program(with class concepts) to find the area of the triangle using the below formula. \n",
    " \n",
    "area = (s*(s-a)*(s-b)*(s-c)) ** 0.5 "
   ]
  },
  {
   "cell_type": "code",
   "execution_count": 3,
   "metadata": {},
   "outputs": [
    {
     "name": "stdout",
     "output_type": "stream",
     "text": [
      "Side 1 :5\n",
      "Side 2 :6\n",
      "Side 3 :7\n"
     ]
    },
    {
     "data": {
      "text/plain": [
       "'Area of Triangle : 14.697'"
      ]
     },
     "execution_count": 3,
     "metadata": {},
     "output_type": "execute_result"
    }
   ],
   "source": [
    "class Polygon:\n",
    "    l, n, m = 0, 0, 0\n",
    "    def __init__(self):\n",
    "        pass\n",
    "    def inputOfSides(self):\n",
    "        side1 = input(\"Side 1 :\")\n",
    "        side2 = input(\"Side 2 :\")\n",
    "        side3 = input(\"Side 3 :\")\n",
    "        self.l = float(side1)\n",
    "        self.n = float(side2)\n",
    "        self.m = float(side3)\n",
    "\n",
    "class Triangle(Polygon):\n",
    "    def __init__(self):\n",
    "        super().__init__()\n",
    "    def findArea(self):\n",
    "        s = (self.l + self.m + self.n) / 2\n",
    "        area = (s*(s-self.l)*(s-self.n)*(s-self.m)) ** 0.5\n",
    "        return \"Area of Triangle : \" + str(round(area,3))\n",
    "        \n",
    "    \n",
    "t = Triangle()\n",
    "t.inputOfSides()\n",
    "t.findArea()"
   ]
  },
  {
   "cell_type": "markdown",
   "metadata": {},
   "source": [
    "One more Solution :"
   ]
  },
  {
   "cell_type": "code",
   "execution_count": 4,
   "metadata": {},
   "outputs": [
    {
     "data": {
      "text/plain": [
       "14.696938456699069"
      ]
     },
     "execution_count": 4,
     "metadata": {},
     "output_type": "execute_result"
    }
   ],
   "source": [
    "class Ploygon:\n",
    "\tdef __init__(self, x,y,z ):\n",
    "\t\tself.x = x\n",
    "\t\tself.y = y\n",
    "\t\tself.z = z\n",
    "\n",
    "\tdef perimeter(self):\n",
    "\t\treturn 2 * self.length + 2 * self.width\n",
    "class Triangle(Ploygon):\n",
    "\ts=0\n",
    "\tarea1=0\n",
    "\tdef __init__(self, x, y, z):\n",
    "\t\tself.x = x\n",
    "\t\tself.y = y\n",
    "\t\tself.z = z\n",
    "\t\tsuper().__init__(x, y,z)\n",
    "\tdef area(self):\n",
    "\t\ts = (self.x+self.y+self.z) / 2\n",
    "\t\tarea1 = (s*(s-self.x)*(s-self.y)*(s-self.z)) ** 0.5\n",
    "\t\treturn area1\n",
    "\t\t\n",
    "t = Triangle(7,5,6)\n",
    "t.area()"
   ]
  },
  {
   "cell_type": "markdown",
   "metadata": {},
   "source": [
    "1.2 \n",
    " \n",
    "Write a function filter_long_words() that takes a list of words and an integer n and returns the list of words that are longer than n. "
   ]
  },
  {
   "cell_type": "code",
   "execution_count": 9,
   "metadata": {},
   "outputs": [
    {
     "name": "stdout",
     "output_type": "stream",
     "text": [
      "Output List with more than 7 chars words ===>>  ['Assignment', 'MachineLearning']\n"
     ]
    }
   ],
   "source": [
    "def  filter_long_words(m, n) :\n",
    "    outputList = []\n",
    "    for i in m:\n",
    "         if len(i) > n:\n",
    "            outputList.append(i)\n",
    "    return outputList\n",
    "    \n",
    "str_list = [\"Santosh\",\"Test\",\"Assignment\",\"Machine\", \"Python\",\"MachineLearning\"]\n",
    "\n",
    "print(\"Output List with more than 7 chars words ===>> \", filter_long_words(str_list, 7))"
   ]
  },
  {
   "cell_type": "markdown",
   "metadata": {},
   "source": [
    "2.1 \n",
    " Write a Python program using function concept that maps  list of words into a list of integers representing the lengths of the corresponding words​. "
   ]
  },
  {
   "cell_type": "code",
   "execution_count": 11,
   "metadata": {},
   "outputs": [
    {
     "name": "stdout",
     "output_type": "stream",
     "text": [
      "Output List =====>>  [7, 4, 10, 7, 6, 15]\n"
     ]
    }
   ],
   "source": [
    "def findLength(m):\n",
    "    return len(m)\n",
    "\n",
    "str_list = [\"Santosh\",\"Test\",\"Assignment\",\"Machine\", \"Python\",\"MachineLearning\"]\n",
    "print(\"Output List =====>> \",list(map(findLength, str_list)))"
   ]
  },
  {
   "cell_type": "markdown",
   "metadata": {},
   "source": [
    "2.2 \n",
    "Write a Python function which takes a character (i.e. a string of length 1) and returns True if it is a vowel, False otherwise"
   ]
  },
  {
   "cell_type": "code",
   "execution_count": 14,
   "metadata": {},
   "outputs": [
    {
     "name": "stdout",
     "output_type": "stream",
     "text": [
      "Please enter string with Single character : d\n",
      "[]\n",
      "False\n",
      "Is z is Vowel ? False\n",
      "Is e is Vowel ? True\n",
      "Is g is Vowel ? False\n",
      "Is u is Vowel ? True\n"
     ]
    }
   ],
   "source": [
    "def isVowel(s):\n",
    "    vowelList = ['a','e','i','o','u']\n",
    "    if s in vowelList:\n",
    "        return True\n",
    "    else :\n",
    "        return False\n",
    "    \n",
    "input_str = input(\"Please enter string with Single character : \")\n",
    "\n",
    "input_list = input_str.split()\n",
    "print(list(filter(isVowel ,input_list )))\n",
    "for s in input_list:\n",
    "    print(isVowel(s))\n",
    "print(\"Is z is Vowel ?\", isVowel(\"z\"))\n",
    "print(\"Is e is Vowel ?\", isVowel(\"e\"))\n",
    "print(\"Is g is Vowel ?\", isVowel(\"g\"))\n",
    "print(\"Is u is Vowel ?\", isVowel(\"u\"))\n"
   ]
  }
 ],
 "metadata": {
  "kernelspec": {
   "display_name": "Python 3",
   "language": "python",
   "name": "python3"
  },
  "language_info": {
   "codemirror_mode": {
    "name": "ipython",
    "version": 3
   },
   "file_extension": ".py",
   "mimetype": "text/x-python",
   "name": "python",
   "nbconvert_exporter": "python",
   "pygments_lexer": "ipython3",
   "version": "3.7.3"
  }
 },
 "nbformat": 4,
 "nbformat_minor": 2
}
